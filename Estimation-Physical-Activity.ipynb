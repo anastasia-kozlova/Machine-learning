{
 "cells": [
  {
   "cell_type": "markdown",
   "metadata": {},
   "source": [
    "### Оценка физической активности населения переписного участка на основе признаков, извлеченных из предпоследнего слоя CNN"
   ]
  },
  {
   "cell_type": "code",
   "execution_count": 1,
   "metadata": {},
   "outputs": [],
   "source": [
    "from sklearn.linear_model import ElasticNetCV, LassoCV, ElasticNet\n",
    "from sklearn.model_selection import GridSearchCV\n",
    "from sklearn.model_selection import ShuffleSplit\n",
    "from sklearn.model_selection import train_test_split\n",
    "from sklearn.preprocessing import MinMaxScaler, StandardScaler\n",
    "from sklearn.metrics import mean_squared_error, r2_score\n",
    "import xgboost as xgb\n",
    "import pandas as pd\n",
    "import numpy as np\n",
    "import matplotlib.pyplot as plt\n",
    "import os"
   ]
  },
  {
   "cell_type": "code",
   "execution_count": 2,
   "metadata": {},
   "outputs": [],
   "source": [
    "outdir = '../out'\n",
    "city_1 = 'memphis'\n",
    "city_2 = 'san_fran'\n",
    "city_3 = 'seattle'\n",
    "city_4 = 'chicago'\n",
    "city_5 = 'detroit'"
   ]
  },
  {
   "cell_type": "code",
   "execution_count": 3,
   "metadata": {},
   "outputs": [],
   "source": [
    "X1 = pd.read_csv(os.path.join(outdir, city_1, 'X_' + city_1 + '_fc7_vggf.txt'), sep=\" \", header=None)\n",
    "X2 = pd.read_csv(os.path.join(outdir, city_2, 'X_' + city_2 + '_fc7_vggf.txt'), sep=\" \", header=None)\n",
    "X3 = pd.read_csv(os.path.join(outdir, city_3, 'X_' + city_3 + '_fc7_vggf.txt'), sep=\" \", header=None)\n",
    "X4 = pd.read_csv(os.path.join(outdir, city_4, 'X_' + city_4 + '_fc7_vggf.txt'), sep=\" \", header=None)\n",
    "X5 = pd.read_csv(os.path.join(outdir, city_5, 'X_' + city_5 + '_fc7_vggf.txt'), sep=\" \", header=None)"
   ]
  },
  {
   "cell_type": "code",
   "execution_count": 5,
   "metadata": {},
   "outputs": [],
   "source": [
    "y1 = pd.read_csv(os.path.join(outdir, city_1, 'y_' + city_1 + '_fc7_vggf.txt'), sep=\" \", header=None)\n",
    "y2 = pd.read_csv(os.path.join(outdir, city_2, 'y_' + city_2 + '_fc7_vggf.txt'), sep=\" \", header=None)\n",
    "y3 = pd.read_csv(os.path.join(outdir, city_3, 'y_' + city_3 + '_fc7_vggf.txt'), sep=\" \", header=None)\n",
    "y4 = pd.read_csv(os.path.join(outdir, city_4, 'y_' + city_4 + '_fc7_vggf.txt'), sep=\" \", header=None)\n",
    "y5 = pd.read_csv(os.path.join(outdir, city_5, 'y_' + city_5 + '_fc7_vggf.txt'), sep=\" \", header=None)"
   ]
  },
  {
   "cell_type": "code",
   "execution_count": 6,
   "metadata": {},
   "outputs": [
    {
     "data": {
      "text/plain": [
       "((356, 4096), (195, 4096), (134, 4096), (794, 4096), (292, 4096))"
      ]
     },
     "execution_count": 6,
     "metadata": {},
     "output_type": "execute_result"
    }
   ],
   "source": [
    "X1.shape, X2.shape, X3.shape, X4.shape, X5.shape"
   ]
  },
  {
   "cell_type": "markdown",
   "metadata": {},
   "source": [
    "#### Подготовка данных"
   ]
  },
  {
   "cell_type": "code",
   "execution_count": 7,
   "metadata": {},
   "outputs": [],
   "source": [
    "X = pd.concat([X1,X2,X3,X4,X5])\n",
    "y = pd.concat([y1,y2,y3,y4,y5])"
   ]
  },
  {
   "cell_type": "code",
   "execution_count": 8,
   "metadata": {},
   "outputs": [
    {
     "data": {
      "text/plain": [
       "(1771, 4096)"
      ]
     },
     "execution_count": 8,
     "metadata": {},
     "output_type": "execute_result"
    }
   ],
   "source": [
    "X.shape"
   ]
  },
  {
   "cell_type": "code",
   "execution_count": 9,
   "metadata": {},
   "outputs": [
    {
     "data": {
      "image/png": "[encoded data removed]",
      "text/plain": [
       "<Figure size 432x288 with 1 Axes>"
      ]
     },
     "metadata": {
      "needs_background": "light"
     },
     "output_type": "display_data"
    }
   ],
   "source": [
    "# распределение показателя физической активности\n",
    "y.hist();"
   ]
  },
  {
   "cell_type": "markdown",
   "metadata": {},
   "source": [
    "* **XGBRegressor** "
   ]
  },
  {
   "cell_type": "code",
   "execution_count": 55,
   "metadata": {},
   "outputs": [],
   "source": [
    "X_train, X_test, y_train, y_test = train_test_split(X, y, test_size=0.2)"
   ]
  },
  {
   "cell_type": "code",
   "execution_count": 56,
   "metadata": {},
   "outputs": [],
   "source": [
    "shuffle_split = ShuffleSplit(test_size=0.25, train_size=0.75, n_splits=6)"
   ]
  },
  {
   "cell_type": "code",
   "execution_count": 58,
   "metadata": {},
   "outputs": [],
   "source": [
    "param_xgb_grid = {\n",
    "                \"learning_rate\"    : [0.01, 0.05, 0.10, 0.20] ,\n",
    "                \"max_depth\"        : [3, 4, 5],\n",
    "                \"min_child_weight\" : [ 5, 7],\n",
    "                \"gamma\"            : [0.0, 0.1, 0.2],\n",
    "                \"colsample_bytree\" : [0.5 , 0.7]\n",
    "}"
   ]
  },
  {
   "cell_type": "code",
   "execution_count": 59,
   "metadata": {},
   "outputs": [],
   "source": [
    "xgb_grid_search = GridSearchCV(xgb_model, \n",
    "                           param_xgb_grid, \n",
    "                           scoring='r2', \n",
    "                           cv = shuffle_split,\n",
    "                           return_train_score=True,\n",
    "                           n_jobs = -1,\n",
    "                           verbose=1)"
   ]
  },
  {
   "cell_type": "code",
   "execution_count": 60,
   "metadata": {
    "scrolled": false
   },
   "outputs": [],
   "source": [
    "xgb_grid_search.fit(X_train,y_train);"
   ]
  },
  {
   "cell_type": "code",
   "execution_count": 62,
   "metadata": {},
   "outputs": [],
   "source": [
    "y_pred = xgb_grid_search.predict(X_test)"
   ]
  },
  {
   "cell_type": "code",
   "execution_count": 63,
   "metadata": {},
   "outputs": [],
   "source": [
    "# print(\"Best parameters : {}\".format(xgb_grid_search.best_params_))\n",
    "# print(\"Best cross validation score: {:.2f}\".format(xgb_grid_search.best_score_))\n",
    "# print(\"Best estimator: {}\".format(xgb_grid_search.best_estimator_))"
   ]
  },
  {
   "cell_type": "code",
   "execution_count": 64,
   "metadata": {},
   "outputs": [
    {
     "name": "stdout",
     "output_type": "stream",
     "text": [
      "Training score:  0.9950989020756817\n",
      "Test score:  0.8002014715895163\n"
     ]
    }
   ],
   "source": [
    "score = xgb_grid_search.score(X_train, y_train)\n",
    "print(\"Training score: \", score)\n",
    "print(\"Test score: \", r2_score(y_test, y_pred))"
   ]
  },
  {
   "cell_type": "markdown",
   "metadata": {},
   "source": [
    "* **ElasticNet**"
   ]
  },
  {
   "cell_type": "code",
   "execution_count": 65,
   "metadata": {
    "scrolled": true
   },
   "outputs": [],
   "source": [
    "X_train, X_test, y_train, y_test = train_test_split(X, y, test_size=0.2)"
   ]
  },
  {
   "cell_type": "code",
   "execution_count": 66,
   "metadata": {},
   "outputs": [],
   "source": [
    "shuffle_split = ShuffleSplit(test_size=0.25, train_size=0.75, n_splits=6)"
   ]
  },
  {
   "cell_type": "code",
   "execution_count": 67,
   "metadata": {},
   "outputs": [],
   "source": [
    "param_grid = {\n",
    "                'alpha': [0.1, 1, 10, 0.01],\n",
    "                'l1_ratio': np.arange([0.4, 0.5, 0.6, 0.7, 0.8, 0.9]),\n",
    "                'tol': [0.0001, 0.001]\n",
    "            }\n",
    "eNet = ElasticNet(max_iter=10000)"
   ]
  },
  {
   "cell_type": "code",
   "execution_count": 68,
   "metadata": {},
   "outputs": [],
   "source": [
    "grid_search = GridSearchCV(eNet, \n",
    "                           param_grid, \n",
    "                           scoring='r2', \n",
    "                           cv = shuffle_split,\n",
    "                           return_train_score=True,\n",
    "                           n_jobs = -1,\n",
    "                           verbose=1)"
   ]
  },
  {
   "cell_type": "code",
   "execution_count": 69,
   "metadata": {},
   "outputs": [
    {
     "name": "stdout",
     "output_type": "stream",
     "text": [
      "Fitting 6 folds for each of 48 candidates, totalling 288 fits\n"
     ]
    },
    {
     "name": "stderr",
     "output_type": "stream",
     "text": [
      "[Parallel(n_jobs=-1)]: Using backend LokyBackend with 8 concurrent workers.\n",
      "[Parallel(n_jobs=-1)]: Done  34 tasks      | elapsed:  4.8min\n",
      "[Parallel(n_jobs=-1)]: Done 184 tasks      | elapsed:  6.4min\n",
      "[Parallel(n_jobs=-1)]: Done 288 out of 288 | elapsed: 40.9min finished\n",
      "/Applications/anaconda3/lib/python3.7/site-packages/sklearn/linear_model/_coordinate_descent.py:476: ConvergenceWarning: Objective did not converge. You might want to increase the number of iterations. Duality gap: 2352.724093583085, tolerance: 16.783387454802263\n",
      "  positive)\n"
     ]
    },
    {
     "data": {
      "text/plain": [
       "GridSearchCV(cv=ShuffleSplit(n_splits=6, random_state=None, test_size=0.25, train_size=0.75),\n",
       "             error_score=nan,\n",
       "             estimator=ElasticNet(alpha=1.0, copy_X=True, fit_intercept=True,\n",
       "                                  l1_ratio=0.5, max_iter=10000, normalize=False,\n",
       "                                  positive=False, precompute=False,\n",
       "                                  random_state=None, selection='cyclic',\n",
       "                                  tol=0.0001, warm_start=False),\n",
       "             iid='deprecated', n_jobs=-1,\n",
       "             param_grid={'alpha': [0.1, 1, 10, 0.01],\n",
       "                         'l1_ratio': array([0.4, 0.5, 0.6, 0.7, 0.8, 0.9]),\n",
       "                         'tol': [0.0001, 0.001]},\n",
       "             pre_dispatch='2*n_jobs', refit=True, return_train_score=True,\n",
       "             scoring='r2', verbose=1)"
      ]
     },
     "execution_count": 69,
     "metadata": {},
     "output_type": "execute_result"
    }
   ],
   "source": [
    "grid_search.fit(X_train,y_train)"
   ]
  },
  {
   "cell_type": "code",
   "execution_count": 70,
   "metadata": {},
   "outputs": [],
   "source": [
    "y_pred = grid_search.predict(X_test)"
   ]
  },
  {
   "cell_type": "code",
   "execution_count": 71,
   "metadata": {
    "scrolled": true
   },
   "outputs": [
    {
     "name": "stdout",
     "output_type": "stream",
     "text": [
      "Best parameters : {'alpha': 0.01, 'l1_ratio': 0.4, 'tol': 0.0001}\n",
      "Best cross validation score: 0.77\n",
      "Best estimator: ElasticNet(alpha=0.01, copy_X=True, fit_intercept=True, l1_ratio=0.4,\n",
      "           max_iter=10000, normalize=False, positive=False, precompute=False,\n",
      "           random_state=None, selection='cyclic', tol=0.0001, warm_start=False)\n"
     ]
    }
   ],
   "source": [
    "print(\"Best parameters : {}\".format(grid_search.best_params_))\n",
    "print(\"Best cross validation score: {:.2f}\".format(grid_search.best_score_))\n",
    "print(\"Best estimator: {}\".format(grid_search.best_estimator_))"
   ]
  },
  {
   "cell_type": "code",
   "execution_count": 72,
   "metadata": {},
   "outputs": [
    {
     "name": "stdout",
     "output_type": "stream",
     "text": [
      "Training score:  0.934062633026361\n",
      "Test score:  0.8123315804429728\n"
     ]
    }
   ],
   "source": [
    "score = grid_search.score(X_train, y_train)\n",
    "print(\"Training score: \", score)\n",
    "print(\"Test score: \", r2_score(y_test, y_pred))"
   ]
  },
  {
   "cell_type": "code",
   "execution_count": null,
   "metadata": {},
   "outputs": [],
   "source": []
  }
 ],
 "metadata": {
  "kernelspec": {
   "display_name": "Python 3",
   "language": "python",
   "name": "python3"
  },
  "language_info": {
   "codemirror_mode": {
    "name": "ipython",
    "version": 3
   },
   "file_extension": ".py",
   "mimetype": "text/x-python",
   "name": "python",
   "nbconvert_exporter": "python",
   "pygments_lexer": "ipython3",
   "version": "3.8.5"
  }
 },
 "nbformat": 4,
 "nbformat_minor": 4
}
